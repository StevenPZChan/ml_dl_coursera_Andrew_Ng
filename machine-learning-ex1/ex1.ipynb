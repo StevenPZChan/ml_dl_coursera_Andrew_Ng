{
 "cells": [
  {
   "cell_type": "markdown",
   "metadata": {},
   "source": [
    "==================== Part 1: Basic Function ===================="
   ]
  },
  {
   "cell_type": "code",
   "execution_count": 1,
   "metadata": {
    "scrolled": true
   },
   "outputs": [
    {
     "name": "stdout",
     "output_type": "stream",
     "text": [
      "Running warmUpExercise ... \n",
      "5x5 Identity Matrix: \n"
     ]
    },
    {
     "data": {
      "text/plain": [
       "array([[1., 0., 0., 0., 0.],\n",
       "       [0., 1., 0., 0., 0.],\n",
       "       [0., 0., 1., 0., 0.],\n",
       "       [0., 0., 0., 1., 0.],\n",
       "       [0., 0., 0., 0., 1.]])"
      ]
     },
     "execution_count": 1,
     "metadata": {},
     "output_type": "execute_result"
    }
   ],
   "source": [
    "from ex1 import *\n",
    "print('Running warmUpExercise ... ');\n",
    "print('5x5 Identity Matrix: ');\n",
    "warmUpExercise()"
   ]
  },
  {
   "cell_type": "markdown",
   "metadata": {},
   "source": [
    "======================= Part 2: Plotting ======================="
   ]
  },
  {
   "cell_type": "code",
   "execution_count": 2,
   "metadata": {},
   "outputs": [
    {
     "name": "stdout",
     "output_type": "stream",
     "text": [
      "Plotting Data ...\n"
     ]
    },
    {
     "data": {
      "image/png": "[encoded data removed]",
      "text/plain": [
       "<Figure size 720x576 with 1 Axes>"
      ]
     },
     "metadata": {},
     "output_type": "display_data"
    }
   ],
   "source": [
    "print('Plotting Data ...')\n",
    "import pandas as pd\n",
    "data = pd.read_csv('ex1data1.txt', header=None)\n",
    "X = data[0]\n",
    "y = data[1]\n",
    "m = len(y) # number of training examples\n",
    "\n",
    "# Plot Data\n",
    "plotData(X, y);"
   ]
  },
  {
   "cell_type": "markdown",
   "metadata": {},
   "source": [
    "=================== Part 3: Cost and Gradient descent ==================="
   ]
  },
  {
   "cell_type": "code",
   "execution_count": 18,
   "metadata": {},
   "outputs": [
    {
     "name": "stdout",
     "output_type": "stream",
     "text": [
      "Testing the cost function ...\n"
     ]
    },
    {
     "ename": "NameError",
     "evalue": "name 'computeCost' is not defined",
     "output_type": "error",
     "traceback": [
      "\u001b[1;31m---------------------------------------------------------------------------\u001b[0m",
      "\u001b[1;31mNameError\u001b[0m                                 Traceback (most recent call last)",
      "\u001b[1;32m<ipython-input-18-428b1803f922>\u001b[0m in \u001b[0;36m<module>\u001b[1;34m()\u001b[0m\n\u001b[0;32m      8\u001b[0m \u001b[0mprint\u001b[0m\u001b[1;33m(\u001b[0m\u001b[1;34m'Testing the cost function ...'\u001b[0m\u001b[1;33m)\u001b[0m\u001b[1;33m\u001b[0m\u001b[0m\n\u001b[0;32m      9\u001b[0m \u001b[1;31m# compute and display initial cost\u001b[0m\u001b[1;33m\u001b[0m\u001b[1;33m\u001b[0m\u001b[0m\n\u001b[1;32m---> 10\u001b[1;33m \u001b[0mJ\u001b[0m \u001b[1;33m=\u001b[0m \u001b[0mcomputeCost\u001b[0m\u001b[1;33m(\u001b[0m\u001b[0mX\u001b[0m\u001b[1;33m,\u001b[0m \u001b[0my\u001b[0m\u001b[1;33m,\u001b[0m \u001b[0mtheta\u001b[0m\u001b[1;33m)\u001b[0m\u001b[1;33m\u001b[0m\u001b[0m\n\u001b[0m\u001b[0;32m     11\u001b[0m \u001b[1;31m# fprintf('With theta = [0 ; 0]\\nCost computed = %f\\n', J);\u001b[0m\u001b[1;33m\u001b[0m\u001b[1;33m\u001b[0m\u001b[0m\n\u001b[0;32m     12\u001b[0m \u001b[1;31m# fprintf('Expected cost value (approx) 32.07\\n');\u001b[0m\u001b[1;33m\u001b[0m\u001b[1;33m\u001b[0m\u001b[0m\n",
      "\u001b[1;31mNameError\u001b[0m: name 'computeCost' is not defined"
     ]
    }
   ],
   "source": [
    "X = np.column_stack((np.ones((m, 1)), data[0])); # Add a column of ones to x\n",
    "theta = np.zeros((2, 1)) # initialize fitting parameters\n",
    "\n",
    "# Some gradient descent settings\n",
    "iterations = 1500\n",
    "alpha = 0.01\n",
    "\n",
    "print('Testing the cost function ...')\n",
    "# compute and display initial cost\n",
    "J = computeCost(X, y, theta)\n",
    "# fprintf('With theta = [0 ; 0]\\nCost computed = %f\\n', J);\n",
    "# fprintf('Expected cost value (approx) 32.07\\n');\n",
    "\n",
    "# % further testing of the cost function\n",
    "# J = computeCost(X, y, [-1 ; 2]);\n",
    "# fprintf('\\nWith theta = [-1 ; 2]\\nCost computed = %f\\n', J);\n",
    "# fprintf('Expected cost value (approx) 54.24\\n');\n",
    "\n",
    "# fprintf('Program paused. Press enter to continue.\\n');\n",
    "# pause;\n",
    "\n",
    "# fprintf('\\nRunning Gradient Descent ...\\n')\n",
    "# % run gradient descent\n",
    "# theta = gradientDescent(X, y, theta, alpha, iterations);\n",
    "\n",
    "# % print theta to screen\n",
    "# fprintf('Theta found by gradient descent:\\n');\n",
    "# fprintf('%f\\n', theta);\n",
    "# fprintf('Expected theta values (approx)\\n');\n",
    "# fprintf(' -3.6303\\n  1.1664\\n\\n');\n",
    "\n",
    "# % Plot the linear fit\n",
    "# hold on; % keep previous plot visible\n",
    "# plot(X(:,2), X*theta, '-')\n",
    "# legend('Training data', 'Linear regression')\n",
    "# hold off % don't overlay any more plots on this figure\n",
    "\n",
    "# % Predict values for population sizes of 35,000 and 70,000\n",
    "# predict1 = [1, 3.5] *theta;\n",
    "# fprintf('For population = 35,000, we predict a profit of %f\\n',...\n",
    "#     predict1*10000);\n",
    "# predict2 = [1, 7] * theta;\n",
    "# fprintf('For population = 70,000, we predict a profit of %f\\n',...\n",
    "#     predict2*10000);"
   ]
  },
  {
   "cell_type": "code",
   "execution_count": null,
   "metadata": {},
   "outputs": [],
   "source": []
  }
 ],
 "metadata": {
  "kernelspec": {
   "display_name": "tensorflow",
   "language": "python",
   "name": "tensorflow"
  },
  "language_info": {
   "codemirror_mode": {
    "name": "ipython",
    "version": 3
   },
   "file_extension": ".py",
   "mimetype": "text/x-python",
   "name": "python",
   "nbconvert_exporter": "python",
   "pygments_lexer": "ipython3",
   "version": "3.6.6"
  }
 },
 "nbformat": 4,
 "nbformat_minor": 2
}
