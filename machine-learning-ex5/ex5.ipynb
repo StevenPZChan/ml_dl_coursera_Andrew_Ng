{
 "cells": [
  {
   "cell_type": "markdown",
   "metadata": {},
   "source": [
    "## Exercise 5 | Regularized Linear Regression and Bias-Variance\n",
    "### =========== Part 1: Loading and Visualizing Data ============="
   ]
  },
  {
   "cell_type": "code",
   "execution_count": 1,
   "metadata": {},
   "outputs": [
    {
     "name": "stdout",
     "output_type": "stream",
     "text": [
      "Loading and Visualizing Data ...\n"
     ]
    },
    {
     "data": {
      "image/png": "[encoded data removed]",
      "text/plain": [
       "<Figure size 432x288 with 1 Axes>"
      ]
     },
     "metadata": {},
     "output_type": "display_data"
    }
   ],
   "source": [
    "from ex5 import *\n",
    "from scipy import io as sio\n",
    "# Load Training Data\n",
    "print('Loading and Visualizing Data ...')\n",
    "\n",
    "# Load from ex5data1: \n",
    "# You will have X, y, Xval, yval, Xtest, ytest in your environment\n",
    "data = sio.loadmat ('ex5data1.mat')\n",
    "X = data['X'].reshape(-1)\n",
    "y = data['y'].reshape(-1)\n",
    "Xval = data['Xval'].reshape(-1)\n",
    "yval = data['yval'].reshape(-1)\n",
    "Xtest = data['Xtest'].reshape(-1)\n",
    "ytest = data['ytest'].reshape(-1)\n",
    "\n",
    "# m = Number of examples\n",
    "m = X.shape[0]\n",
    "\n",
    "# Plot training data\n",
    "%matplotlib inline\n",
    "plt.plot(X, y, 'rx', markersize=10, markeredgewidth=1.5)\n",
    "plt.xlabel('Change in water level (x)')\n",
    "plt.ylabel('Water flowing out of the dam (y)')\n",
    "plt.show()"
   ]
  },
  {
   "cell_type": "markdown",
   "metadata": {},
   "source": [
    "### =========== Part 2: Regularized Linear Regression Cost ============="
   ]
  },
  {
   "cell_type": "code",
   "execution_count": 2,
   "metadata": {},
   "outputs": [
    {
     "name": "stdout",
     "output_type": "stream",
     "text": [
      "Cost at theta = [1 ; 1]: 303.993192 \n",
      "(this value should be about 303.993192)\n"
     ]
    }
   ],
   "source": [
    "theta = np.array([1, 1])\n",
    "J, _ = linearRegCostFunction(np.column_stack([np.ones(m), X]), y, theta, 1)\n",
    "\n",
    "print(f'Cost at theta = [1 ; 1]: {J:f} '\n",
    "         '\\n(this value should be about 303.993192)')"
   ]
  },
  {
   "cell_type": "markdown",
   "metadata": {},
   "source": [
    "### =========== Part 3: Regularized Linear Regression Gradient ============="
   ]
  },
  {
   "cell_type": "code",
   "execution_count": 3,
   "metadata": {},
   "outputs": [
    {
     "name": "stdout",
     "output_type": "stream",
     "text": [
      "Gradient at theta = [1 ; 1]:  [-15.303016; 598.250744] \n",
      "(this value should be about [-15.303016; 598.250744])\n"
     ]
    }
   ],
   "source": [
    "theta = np.array([1, 1])\n",
    "J, grad = linearRegCostFunction(np.column_stack([np.ones(m), X]), y, theta, 1)\n",
    "\n",
    "print(f'Gradient at theta = [1 ; 1]:  [{grad[0]:f}; {grad[1]:f}] '\n",
    "         '\\n(this value should be about [-15.303016; 598.250744])')"
   ]
  },
  {
   "cell_type": "markdown",
   "metadata": {},
   "source": [
    "### =========== Part 4: Train Linear Regression ============="
   ]
  },
  {
   "cell_type": "code",
   "execution_count": 4,
   "metadata": {},
   "outputs": [
    {
     "name": "stdout",
     "output_type": "stream",
     "text": [
      "Optimization terminated successfully.\n",
      "         Current function value: 22.373906\n",
      "         Iterations: 2\n",
      "         Function evaluations: 5\n",
      "         Gradient evaluations: 5\n"
     ]
    },
    {
     "data": {
      "image/png": "[encoded data removed]",
      "text/plain": [
       "<Figure size 432x288 with 1 Axes>"
      ]
     },
     "metadata": {},
     "output_type": "display_data"
    }
   ],
   "source": [
    "#  Train linear regression with lambda = 0\n",
    "lambda_ = 0;\n",
    "theta = trainLinearReg(np.column_stack([np.ones(m), X]), y, lambda_)\n",
    "\n",
    "#  Plot fit over the data\n",
    "plt.plot(X, y, 'rx', markersize=10, markeredgewidth=1.5)\n",
    "plt.xlabel('Change in water level (x)')\n",
    "plt.ylabel('Water flowing out of the dam (y)')\n",
    "plt.plot(X, np.matmul(np.column_stack([np.ones(m), X]), theta), '--', linewidth=2)\n",
    "plt.show()"
   ]
  },
  {
   "cell_type": "markdown",
   "metadata": {},
   "source": [
    "### =========== Part 5: Learning Curve for Linear Regression ============="
   ]
  },
  {
   "cell_type": "code",
   "execution_count": 5,
   "metadata": {},
   "outputs": [
    {
     "name": "stdout",
     "output_type": "stream",
     "text": [
      "Optimization terminated successfully.\n",
      "         Current function value: 0.000000\n",
      "         Iterations: 1\n",
      "         Function evaluations: 3\n",
      "         Gradient evaluations: 3\n",
      "Optimization terminated successfully.\n",
      "         Current function value: 0.000000\n",
      "         Iterations: 2\n",
      "         Function evaluations: 6\n",
      "         Gradient evaluations: 6\n",
      "Optimization terminated successfully.\n",
      "         Current function value: 3.286595\n",
      "         Iterations: 9\n",
      "         Function evaluations: 15\n",
      "         Gradient evaluations: 15\n",
      "Optimization terminated successfully.\n",
      "         Current function value: 2.842678\n",
      "         Iterations: 8\n",
      "         Function evaluations: 14\n",
      "         Gradient evaluations: 14\n",
      "Optimization terminated successfully.\n",
      "         Current function value: 13.154049\n",
      "         Iterations: 22\n",
      "         Function evaluations: 34\n",
      "         Gradient evaluations: 34\n",
      "Optimization terminated successfully.\n",
      "         Current function value: 19.443963\n",
      "         Iterations: 22\n",
      "         Function evaluations: 34\n",
      "         Gradient evaluations: 34\n",
      "Optimization terminated successfully.\n",
      "         Current function value: 20.098522\n",
      "         Iterations: 18\n",
      "         Function evaluations: 28\n",
      "         Gradient evaluations: 28\n",
      "Optimization terminated successfully.\n",
      "         Current function value: 18.172859\n",
      "         Iterations: 2\n",
      "         Function evaluations: 5\n",
      "         Gradient evaluations: 5\n",
      "Optimization terminated successfully.\n",
      "         Current function value: 22.609405\n",
      "         Iterations: 2\n",
      "         Function evaluations: 5\n",
      "         Gradient evaluations: 5\n",
      "Optimization terminated successfully.\n",
      "         Current function value: 23.261462\n",
      "         Iterations: 2\n",
      "         Function evaluations: 5\n",
      "         Gradient evaluations: 5\n",
      "Optimization terminated successfully.\n",
      "         Current function value: 24.317250\n",
      "         Iterations: 2\n",
      "         Function evaluations: 5\n",
      "         Gradient evaluations: 5\n",
      "Optimization terminated successfully.\n",
      "         Current function value: 22.373906\n",
      "         Iterations: 2\n",
      "         Function evaluations: 5\n",
      "         Gradient evaluations: 5\n",
      "# Training Examples\tTrain Error\tCross Validation Error\n",
      "  \t0\t\t0.000000\t205.121096\n",
      "  \t1\t\t0.000000\t110.300366\n",
      "  \t2\t\t3.286595\t45.010232\n",
      "  \t3\t\t2.842678\t48.368911\n",
      "  \t4\t\t13.154049\t35.865141\n",
      "  \t5\t\t19.443963\t33.829957\n",
      "  \t6\t\t20.098522\t31.970987\n",
      "  \t7\t\t18.172859\t30.862446\n",
      "  \t8\t\t22.609405\t31.135998\n",
      "  \t9\t\t23.261462\t28.936207\n",
      "  \t10\t\t24.317250\t29.551432\n",
      "  \t11\t\t22.373906\t29.433818\n"
     ]
    },
    {
     "data": {
      "image/png": "[encoded data removed]",
      "text/plain": [
       "<Figure size 432x288 with 1 Axes>"
      ]
     },
     "metadata": {},
     "output_type": "display_data"
    }
   ],
   "source": [
    "lambda_ = 0\n",
    "error_train, error_val = learningCurve(np.column_stack([np.ones(m), X]), y,\n",
    "                                       np.column_stack([np.ones_like(Xval), Xval]), yval, lambda_)\n",
    "\n",
    "plt.plot(np.arange(m), error_train)\n",
    "plt.plot(np.arange(m), error_val)\n",
    "plt.title('Learning curve for linear regression')\n",
    "plt.legend(['Train', 'Cross Validation'])\n",
    "plt.xlabel('Number of training examples')\n",
    "plt.ylabel('Error')\n",
    "plt.axis([0, 13, 0, 150])\n",
    "\n",
    "print('# Training Examples\\tTrain Error\\tCross Validation Error')\n",
    "for i in range(m):\n",
    "    print(f'  \\t{i}\\t\\t{error_train[i]:f}\\t{error_val[i]:f}')"
   ]
  },
  {
   "cell_type": "markdown",
   "metadata": {},
   "source": [
    "### =========== Part 6: Feature Mapping for Polynomial Regression ============="
   ]
  },
  {
   "cell_type": "code",
   "execution_count": 6,
   "metadata": {},
   "outputs": [
    {
     "name": "stdout",
     "output_type": "stream",
     "text": [
      "Normalized Training Example 1:\n",
      "  [ 1.       -0.378244 -0.788662  0.190329 -0.737591  0.320252 -0.617152\n",
      "  0.359835 -0.531091]  \n"
     ]
    }
   ],
   "source": [
    "p = 8\n",
    "\n",
    "# Map X onto Polynomial Features and Normalize\n",
    "X_poly = polyFeatures(X, p)\n",
    "X_poly, mu, sigma = featureNormalize(X_poly)  # Normalize\n",
    "X_poly = np.insert(X_poly, 0, 1, axis=1)      # Add Ones\n",
    "\n",
    "# Map X_poly_test and normalize (using mu and sigma)\n",
    "X_poly_test = polyFeatures(Xtest, p)\n",
    "X_poly_test = X_poly_test - mu\n",
    "X_poly_test = X_poly_test / sigma\n",
    "X_poly_test = np.insert(X_poly_test, 0, 1, axis=1)  # Add Ones\n",
    "\n",
    "# Map X_poly_val and normalize (using mu and sigma)\n",
    "X_poly_val = polyFeatures(Xval, p)\n",
    "X_poly_val = X_poly_val - mu\n",
    "X_poly_val = X_poly_val / sigma\n",
    "X_poly_val = np.insert(X_poly_val, 0, 1, axis=1)  # Add Ones\n",
    "\n",
    "print('Normalized Training Example 1:')\n",
    "print(f'  {X_poly[0, :]}  ')"
   ]
  },
  {
   "cell_type": "markdown",
   "metadata": {},
   "source": [
    "### =========== Part 7: Learning Curve for Polynomial Regression ============="
   ]
  },
  {
   "cell_type": "code",
   "execution_count": 7,
   "metadata": {},
   "outputs": [
    {
     "name": "stdout",
     "output_type": "stream",
     "text": [
      "Warning: Maximum number of iterations has been exceeded.\n",
      "         Current function value: 0.119425\n",
      "         Iterations: 200\n",
      "         Function evaluations: 372\n",
      "         Gradient evaluations: 372\n"
     ]
    },
    {
     "data": {
      "image/png": "[encoded data removed]",
      "text/plain": [
       "<Figure size 432x288 with 1 Axes>"
      ]
     },
     "metadata": {},
     "output_type": "display_data"
    },
    {
     "name": "stdout",
     "output_type": "stream",
     "text": [
      "Optimization terminated successfully.\n",
      "         Current function value: 0.000000\n",
      "         Iterations: 2\n",
      "         Function evaluations: 4\n",
      "         Gradient evaluations: 4\n",
      "Optimization terminated successfully.\n",
      "         Current function value: 0.000000\n",
      "         Iterations: 6\n",
      "         Function evaluations: 9\n",
      "         Gradient evaluations: 9\n",
      "Optimization terminated successfully.\n",
      "         Current function value: 0.000000\n",
      "         Iterations: 15\n",
      "         Function evaluations: 27\n",
      "         Gradient evaluations: 27\n",
      "Optimization terminated successfully.\n",
      "         Current function value: 0.000000\n",
      "         Iterations: 4\n",
      "         Function evaluations: 13\n",
      "         Gradient evaluations: 13\n",
      "Optimization terminated successfully.\n",
      "         Current function value: 0.000000\n",
      "         Iterations: 17\n",
      "         Function evaluations: 35\n",
      "         Gradient evaluations: 35\n",
      "Optimization terminated successfully.\n",
      "         Current function value: 0.000000\n",
      "         Iterations: 37\n",
      "         Function evaluations: 72\n",
      "         Gradient evaluations: 72\n",
      "Optimization terminated successfully.\n",
      "         Current function value: 0.000000\n",
      "         Iterations: 147\n",
      "         Function evaluations: 274\n",
      "         Gradient evaluations: 274\n",
      "Warning: Maximum number of iterations has been exceeded.\n",
      "         Current function value: 0.040218\n",
      "         Iterations: 200\n",
      "         Function evaluations: 380\n",
      "         Gradient evaluations: 380\n",
      "Warning: Maximum number of iterations has been exceeded.\n",
      "         Current function value: 0.035614\n",
      "         Iterations: 200\n",
      "         Function evaluations: 366\n",
      "         Gradient evaluations: 366\n",
      "Warning: Maximum number of iterations has been exceeded.\n",
      "         Current function value: 0.131620\n",
      "         Iterations: 200\n",
      "         Function evaluations: 371\n",
      "         Gradient evaluations: 371\n",
      "Warning: Maximum number of iterations has been exceeded.\n",
      "         Current function value: 0.068496\n",
      "         Iterations: 200\n",
      "         Function evaluations: 350\n",
      "         Gradient evaluations: 350\n",
      "Warning: Maximum number of iterations has been exceeded.\n",
      "         Current function value: 0.119425\n",
      "         Iterations: 200\n",
      "         Function evaluations: 372\n",
      "         Gradient evaluations: 372\n",
      "Polynomial Regression (lambda = 0)\n",
      "\n",
      "# Training Examples\tTrain Error\tCross Validation Error\n",
      "  \t0\t\t0.000000\t161.442168\n",
      "  \t1\t\t0.000000\t160.792292\n",
      "  \t2\t\t0.000000\t67.084922\n",
      "  \t3\t\t0.000000\t67.726849\n",
      "  \t4\t\t0.000000\t6.616987\n",
      "  \t5\t\t0.000000\t10.643050\n",
      "  \t6\t\t0.000000\t27.963489\n",
      "  \t7\t\t0.040218\t11.105429\n",
      "  \t8\t\t0.035614\t11.714711\n",
      "  \t9\t\t0.131620\t7.300176\n",
      "  \t10\t\t0.068496\t8.426525\n",
      "  \t11\t\t0.119425\t12.112653\n"
     ]
    },
    {
     "data": {
      "image/png": "[encoded data removed]",
      "text/plain": [
       "<Figure size 432x288 with 1 Axes>"
      ]
     },
     "metadata": {},
     "output_type": "display_data"
    }
   ],
   "source": [
    "lambda_ = 0;\n",
    "theta = trainLinearReg(X_poly, y, lambda_)\n",
    "\n",
    "# Plot training data and fit\n",
    "plt.figure()\n",
    "plt.plot(X, y, 'rx', markersize=10, markeredgewidth=1.5)\n",
    "plotFit(min(X), max(X), mu, sigma, theta, p);\n",
    "plt.xlabel('Change in water level (x)')\n",
    "plt.ylabel('Water flowing out of the dam (y)')\n",
    "plt.title(f'Polynomial Regression Fit ($\\lambda$ = {lambda_:g})')\n",
    "plt.show()\n",
    "\n",
    "plt.figure()\n",
    "error_train, error_val = learningCurve(X_poly, y, X_poly_val, yval, lambda_)\n",
    "plt.plot(np.arange(m), error_train)\n",
    "plt.plot(np.arange(m), error_val)\n",
    "\n",
    "plt.title(f'Polynomial Regression Learning Curve ($\\lambda$ = {lambda_:g})')\n",
    "plt.xlabel('Number of training examples')\n",
    "plt.ylabel('Error')\n",
    "plt.axis([0, 13, 0, 100])\n",
    "plt.legend(['Train', 'Cross Validation'])\n",
    "\n",
    "print(f'Polynomial Regression (lambda = {lambda_:g})\\n')\n",
    "print('# Training Examples\\tTrain Error\\tCross Validation Error')\n",
    "for i in range(m):\n",
    "    print(f'  \\t{i}\\t\\t{error_train[i]:f}\\t{error_val[i]:f}')"
   ]
  },
  {
   "cell_type": "markdown",
   "metadata": {},
   "source": [
    "### =========== Part 8: Validation for Selecting Lambda ============="
   ]
  },
  {
   "cell_type": "code",
   "execution_count": 8,
   "metadata": {},
   "outputs": [
    {
     "name": "stdout",
     "output_type": "stream",
     "text": [
      "Warning: Maximum number of iterations has been exceeded.\n",
      "         Current function value: 0.119425\n",
      "         Iterations: 200\n",
      "         Function evaluations: 372\n",
      "         Gradient evaluations: 372\n",
      "Warning: Maximum number of iterations has been exceeded.\n",
      "         Current function value: 0.180723\n",
      "         Iterations: 200\n",
      "         Function evaluations: 370\n",
      "         Gradient evaluations: 370\n",
      "Optimization terminated successfully.\n",
      "         Current function value: 0.243172\n",
      "         Iterations: 195\n",
      "         Function evaluations: 377\n",
      "         Gradient evaluations: 377\n",
      "Warning: Maximum number of iterations has been exceeded.\n",
      "         Current function value: 0.371283\n",
      "         Iterations: 200\n",
      "         Function evaluations: 377\n",
      "         Gradient evaluations: 377\n",
      "Optimization terminated successfully.\n",
      "         Current function value: 0.636703\n",
      "         Iterations: 118\n",
      "         Function evaluations: 218\n",
      "         Gradient evaluations: 218\n",
      "Optimization terminated successfully.\n",
      "         Current function value: 1.360572\n",
      "         Iterations: 78\n",
      "         Function evaluations: 146\n",
      "         Gradient evaluations: 146\n",
      "Optimization terminated successfully.\n",
      "         Current function value: 2.917649\n",
      "         Iterations: 61\n",
      "         Function evaluations: 101\n",
      "         Gradient evaluations: 101\n",
      "Optimization terminated successfully.\n",
      "         Current function value: 6.830463\n",
      "         Iterations: 34\n",
      "         Function evaluations: 62\n",
      "         Gradient evaluations: 62\n",
      "Optimization terminated successfully.\n",
      "         Current function value: 14.937646\n",
      "         Iterations: 13\n",
      "         Function evaluations: 24\n",
      "         Gradient evaluations: 24\n",
      "Optimization terminated successfully.\n",
      "         Current function value: 31.878154\n",
      "         Iterations: 15\n",
      "         Function evaluations: 25\n",
      "         Gradient evaluations: 25\n",
      "lambda\t\tTrain Error\tValidation Error\n",
      " 0.000000\t0.119425\t12.112653\n",
      " 0.001000\t0.146681\t15.167242\n",
      " 0.003000\t0.166711\t15.938570\n",
      " 0.010000\t0.218028\t17.154297\n",
      " 0.030000\t0.275169\t13.215280\n",
      " 0.100000\t0.438662\t7.926893\n",
      " 0.300000\t0.868160\t4.760834\n",
      " 1.000000\t1.958695\t4.263359\n",
      " 3.000000\t4.525105\t3.832176\n",
      " 10.000000\t14.825808\t8.889725\n"
     ]
    },
    {
     "data": {
      "image/png": "[encoded data removed]",
      "text/plain": [
       "<Figure size 432x288 with 1 Axes>"
      ]
     },
     "metadata": {},
     "output_type": "display_data"
    }
   ],
   "source": [
    "lambda_vec, error_train, error_val = validationCurve(X_poly, y, X_poly_val, yval)\n",
    "\n",
    "plt.plot(lambda_vec, error_train)\n",
    "plt.plot(lambda_vec, error_val)\n",
    "plt.legend(['Train', 'Cross Validation'])\n",
    "plt.xlabel('$\\lambda$')\n",
    "plt.ylabel('Error')\n",
    "\n",
    "print('lambda\\t\\tTrain Error\\tValidation Error')\n",
    "for i in range(len(lambda_vec)):\n",
    "    print(f' {lambda_vec[i]:f}\\t{error_train[i]:f}\\t{error_val[i]:f}')"
   ]
  },
  {
   "cell_type": "markdown",
   "metadata": {},
   "source": [
    "### Computing test set error\n",
    "可以看到，当$\\lambda = 3$时验证集误差最小"
   ]
  },
  {
   "cell_type": "code",
   "execution_count": 9,
   "metadata": {},
   "outputs": [
    {
     "name": "stdout",
     "output_type": "stream",
     "text": [
      "Optimization terminated successfully.\n",
      "         Current function value: 14.937646\n",
      "         Iterations: 13\n",
      "         Function evaluations: 24\n",
      "         Gradient evaluations: 24\n",
      "Error at lambda = 3:  3.572027 \n",
      "(this value should be about 3.8599)\n"
     ]
    }
   ],
   "source": [
    "lambda_ = 3\n",
    "theta = trainLinearReg(X_poly, y, lambda_)\n",
    "error_test = linearRegCostFunction(X_poly_test, ytest, theta, 0)[0]\n",
    "print(f'Error at lambda = 3:  {error_test:f} '\n",
    "         '\\n(this value should be about 3.8599)')"
   ]
  },
  {
   "cell_type": "markdown",
   "metadata": {},
   "source": [
    "### Plotting learning curves with randomly selected examples\n",
    "比较复杂，关掉迭代过程显示，重新写一遍"
   ]
  },
  {
   "cell_type": "code",
   "execution_count": 10,
   "metadata": {},
   "outputs": [
    {
     "data": {
      "image/png": "[encoded data removed]",
      "text/plain": [
       "<Figure size 432x288 with 1 Axes>"
      ]
     },
     "metadata": {},
     "output_type": "display_data"
    }
   ],
   "source": [
    "lambda_ = 0.01\n",
    "repeat = 50\n",
    "\n",
    "m = X_poly.shape[0]\n",
    "error_train = np.zeros(m)\n",
    "error_val = np.zeros(m)\n",
    "\n",
    "for i in range(m):\n",
    "    # Initialize Theta\n",
    "    initial_theta = np.zeros(X_poly.shape[1])\n",
    "\n",
    "    # Create \"short hand\" for the cost function to be minimized\n",
    "    costFunction = lambda t, X, y: linearRegCostFunction(X, y, t, lambda_)[0]\n",
    "    gradFunction = lambda t, X, y: linearRegCostFunction(X, y, t, lambda_)[1]\n",
    "\n",
    "    # Now, costFunction is a function that takes in only one argument\n",
    "    options = {'maxiter': 200, 'disp': False}\n",
    "    error_train_temp = 0\n",
    "    error_val_temp = 0\n",
    "    \n",
    "    for j in range(repeat):\n",
    "        random_i = np.random.permutation(m)[:i + 1]\n",
    "        # Minimize using fmincg\n",
    "        res = opt.minimize(costFunction, initial_theta, args=(X_poly[random_i], y[random_i]), method='CG', jac=gradFunction, options=options)\n",
    "        theta = res.x\n",
    "        error_train_temp += linearRegCostFunction(X_poly[random_i], y[random_i], theta, 0)[0]\n",
    "        error_val_temp += linearRegCostFunction(X_poly_val[random_i], yval[random_i], theta, 0)[0]\n",
    "    \n",
    "    error_train[i] = error_train_temp / repeat\n",
    "    error_val[i] = error_val_temp / repeat\n",
    "    \n",
    "plt.plot(np.arange(m), error_train)\n",
    "plt.plot(np.arange(m), error_val)\n",
    "\n",
    "plt.title(f'Polynomial Regression Learning Curve ($\\lambda$ = {lambda_:g})')\n",
    "plt.xlabel('Number of training examples')\n",
    "plt.ylabel('Error')\n",
    "plt.axis([0, 13, 0, 100])\n",
    "plt.legend(['Train', 'Cross Validation'])\n",
    "plt.show()"
   ]
  },
  {
   "cell_type": "markdown",
   "metadata": {},
   "source": [
    "用了随机采样平均值之后曲线平滑了不少。\n",
    "###### 以上部分代码在[ex5.py](https://github.com/StevenPZChan/ml_dl_coursera_Andrew_Ng/blob/master/machine-learning-ex5/ex5.py)中"
   ]
  },
  {
   "cell_type": "markdown",
   "metadata": {},
   "source": [
    "### 总结：直观感受了偏差和方差的情况，以及对后续工作有了大概的印象。了解了`numpy`的广播原理。"
   ]
  }
 ],
 "metadata": {
  "kernelspec": {
   "display_name": "tensorflow",
   "language": "python",
   "name": "tensorflow"
  },
  "language_info": {
   "codemirror_mode": {
    "name": "ipython",
    "version": 3
   },
   "file_extension": ".py",
   "mimetype": "text/x-python",
   "name": "python",
   "nbconvert_exporter": "python",
   "pygments_lexer": "ipython3",
   "version": "3.6.6"
  }
 },
 "nbformat": 4,
 "nbformat_minor": 2
}
